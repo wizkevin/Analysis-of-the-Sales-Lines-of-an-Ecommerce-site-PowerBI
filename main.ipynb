{
 "cells": [
  {
   "cell_type": "code",
   "execution_count": 26,
   "metadata": {},
   "outputs": [],
   "source": [
    "import pandas as pd"
   ]
  },
  {
   "cell_type": "code",
   "execution_count": 27,
   "metadata": {},
   "outputs": [
    {
     "data": {
      "text/html": [
       "<div>\n",
       "<style scoped>\n",
       "    .dataframe tbody tr th:only-of-type {\n",
       "        vertical-align: middle;\n",
       "    }\n",
       "\n",
       "    .dataframe tbody tr th {\n",
       "        vertical-align: top;\n",
       "    }\n",
       "\n",
       "    .dataframe thead th {\n",
       "        text-align: right;\n",
       "    }\n",
       "</style>\n",
       "<table border=\"1\" class=\"dataframe\">\n",
       "  <thead>\n",
       "    <tr style=\"text-align: right;\">\n",
       "      <th></th>\n",
       "      <th>Cod_cmd</th>\n",
       "      <th>Libellé produit</th>\n",
       "      <th>Vendeur</th>\n",
       "      <th>Univers</th>\n",
       "      <th>Nature</th>\n",
       "      <th>Date de commande</th>\n",
       "      <th>Montant cmd</th>\n",
       "      <th>Quantité</th>\n",
       "      <th>Prix transport</th>\n",
       "      <th>Délai transport annoncé</th>\n",
       "    </tr>\n",
       "  </thead>\n",
       "  <tbody>\n",
       "    <tr>\n",
       "      <th>0</th>\n",
       "      <td>182210782</td>\n",
       "      <td>Table basse carrée detroit design industriel</td>\n",
       "      <td>Autre vendeur</td>\n",
       "      <td>Canapé Salon Séjour</td>\n",
       "      <td>Table basse</td>\n",
       "      <td>2021-01-20</td>\n",
       "      <td>244</td>\n",
       "      <td>4</td>\n",
       "      <td>6.67</td>\n",
       "      <td>10.0</td>\n",
       "    </tr>\n",
       "    <tr>\n",
       "      <th>1</th>\n",
       "      <td>182082437</td>\n",
       "      <td>Ours en peluche géant 150 cm brun</td>\n",
       "      <td>Autre vendeur</td>\n",
       "      <td>Enfant Bébé</td>\n",
       "      <td>Peluche</td>\n",
       "      <td>2021-01-17</td>\n",
       "      <td>28</td>\n",
       "      <td>1</td>\n",
       "      <td>9.92</td>\n",
       "      <td>10.0</td>\n",
       "    </tr>\n",
       "    <tr>\n",
       "      <th>2</th>\n",
       "      <td>182095765</td>\n",
       "      <td>Ours en peluche géant 100 cm blanc</td>\n",
       "      <td>Autre vendeur</td>\n",
       "      <td>Enfant Bébé</td>\n",
       "      <td>Peluche</td>\n",
       "      <td>2021-01-18</td>\n",
       "      <td>15</td>\n",
       "      <td>1</td>\n",
       "      <td>9.92</td>\n",
       "      <td>10.0</td>\n",
       "    </tr>\n",
       "    <tr>\n",
       "      <th>3</th>\n",
       "      <td>182615392</td>\n",
       "      <td>Lot de 4 chaises mia noires pour salle à manger</td>\n",
       "      <td>Autre vendeur</td>\n",
       "      <td>Canapé Salon Séjour</td>\n",
       "      <td>Chaise</td>\n",
       "      <td>2021-01-23</td>\n",
       "      <td>385</td>\n",
       "      <td>2</td>\n",
       "      <td>20.75</td>\n",
       "      <td>10.0</td>\n",
       "    </tr>\n",
       "    <tr>\n",
       "      <th>4</th>\n",
       "      <td>184222081</td>\n",
       "      <td>Meuble tv falko bois blanc et gris</td>\n",
       "      <td>Autre vendeur</td>\n",
       "      <td>Canapé Salon Séjour</td>\n",
       "      <td>Meuble tv</td>\n",
       "      <td>2021-02-11</td>\n",
       "      <td>61</td>\n",
       "      <td>1</td>\n",
       "      <td>19.08</td>\n",
       "      <td>10.0</td>\n",
       "    </tr>\n",
       "  </tbody>\n",
       "</table>\n",
       "</div>"
      ],
      "text/plain": [
       "     Cod_cmd                                  Libellé produit        Vendeur  \\\n",
       "0  182210782     Table basse carrée detroit design industriel  Autre vendeur   \n",
       "1  182082437                Ours en peluche géant 150 cm brun  Autre vendeur   \n",
       "2  182095765               Ours en peluche géant 100 cm blanc  Autre vendeur   \n",
       "3  182615392  Lot de 4 chaises mia noires pour salle à manger  Autre vendeur   \n",
       "4  184222081               Meuble tv falko bois blanc et gris  Autre vendeur   \n",
       "\n",
       "               Univers       Nature Date de commande  Montant cmd  Quantité  \\\n",
       "0  Canapé Salon Séjour  Table basse       2021-01-20          244         4   \n",
       "1          Enfant Bébé      Peluche       2021-01-17           28         1   \n",
       "2          Enfant Bébé      Peluche       2021-01-18           15         1   \n",
       "3  Canapé Salon Séjour       Chaise       2021-01-23          385         2   \n",
       "4  Canapé Salon Séjour    Meuble tv       2021-02-11           61         1   \n",
       "\n",
       "   Prix transport  Délai transport annoncé  \n",
       "0            6.67                     10.0  \n",
       "1            9.92                     10.0  \n",
       "2            9.92                     10.0  \n",
       "3           20.75                     10.0  \n",
       "4           19.08                     10.0  "
      ]
     },
     "execution_count": 27,
     "metadata": {},
     "output_type": "execute_result"
    }
   ],
   "source": [
    "\n",
    "# df = pd.read_excel(\"20210614 Ecommerce sales.xlsb\", engine='pyxlsb')\n",
    "df = pd.read_excel(\"20210614_Ecommerce_sales_bis.xlsx\")\n",
    "\n",
    "df.head()"
   ]
  },
  {
   "cell_type": "code",
   "execution_count": 28,
   "metadata": {},
   "outputs": [
    {
     "data": {
      "text/html": [
       "<div>\n",
       "<style scoped>\n",
       "    .dataframe tbody tr th:only-of-type {\n",
       "        vertical-align: middle;\n",
       "    }\n",
       "\n",
       "    .dataframe tbody tr th {\n",
       "        vertical-align: top;\n",
       "    }\n",
       "\n",
       "    .dataframe thead th {\n",
       "        text-align: right;\n",
       "    }\n",
       "</style>\n",
       "<table border=\"1\" class=\"dataframe\">\n",
       "  <thead>\n",
       "    <tr style=\"text-align: right;\">\n",
       "      <th></th>\n",
       "      <th>Cod_cmd</th>\n",
       "      <th>Libellé produit</th>\n",
       "      <th>Vendeur</th>\n",
       "      <th>Univers</th>\n",
       "      <th>Nature</th>\n",
       "      <th>Date de commande</th>\n",
       "      <th>Montant cmd</th>\n",
       "      <th>Quantité</th>\n",
       "      <th>Prix transport</th>\n",
       "      <th>Délai transport annoncé</th>\n",
       "    </tr>\n",
       "  </thead>\n",
       "  <tbody>\n",
       "    <tr>\n",
       "      <th>525029</th>\n",
       "      <td>186997203</td>\n",
       "      <td>Lit coffre madrid 140x200 + 1 sommier ch ne bl...</td>\n",
       "      <td>Autre vendeur</td>\n",
       "      <td>Chambre Literie</td>\n",
       "      <td>Lit adulte</td>\n",
       "      <td>2021-03-29</td>\n",
       "      <td>530</td>\n",
       "      <td>1</td>\n",
       "      <td>70.83</td>\n",
       "      <td>25.0</td>\n",
       "    </tr>\n",
       "    <tr>\n",
       "      <th>525030</th>\n",
       "      <td>187045930</td>\n",
       "      <td>Nappe antitache ronde infroissable et 100 poly...</td>\n",
       "      <td>Autre vendeur</td>\n",
       "      <td>Décoration Textile</td>\n",
       "      <td>Linge de table</td>\n",
       "      <td>2021-03-29</td>\n",
       "      <td>15</td>\n",
       "      <td>1</td>\n",
       "      <td>0.00</td>\n",
       "      <td>3.0</td>\n",
       "    </tr>\n",
       "    <tr>\n",
       "      <th>525031</th>\n",
       "      <td>187019687</td>\n",
       "      <td>Good morning housse de couette pour enfants da...</td>\n",
       "      <td>Autre vendeur</td>\n",
       "      <td>Décoration Textile</td>\n",
       "      <td>Housse de couette</td>\n",
       "      <td>2021-03-29</td>\n",
       "      <td>23</td>\n",
       "      <td>1</td>\n",
       "      <td>0.00</td>\n",
       "      <td>6.0</td>\n",
       "    </tr>\n",
       "    <tr>\n",
       "      <th>525032</th>\n",
       "      <td>186990574</td>\n",
       "      <td>Ampoule pour four e14 25w 230v ac</td>\n",
       "      <td>Autre vendeur</td>\n",
       "      <td>Décoration Textile</td>\n",
       "      <td>Ampoule</td>\n",
       "      <td>2021-03-29</td>\n",
       "      <td>15</td>\n",
       "      <td>2</td>\n",
       "      <td>0.00</td>\n",
       "      <td>7.0</td>\n",
       "    </tr>\n",
       "    <tr>\n",
       "      <th>525033</th>\n",
       "      <td>211053330</td>\n",
       "      <td>At4 chambre complète carnaval blanc bouleau</td>\n",
       "      <td>Autre vendeur</td>\n",
       "      <td>Chambre Literie</td>\n",
       "      <td>Ensemble chambre</td>\n",
       "      <td>2021-03-30</td>\n",
       "      <td>669</td>\n",
       "      <td>1</td>\n",
       "      <td>0.00</td>\n",
       "      <td>19.0</td>\n",
       "    </tr>\n",
       "  </tbody>\n",
       "</table>\n",
       "</div>"
      ],
      "text/plain": [
       "          Cod_cmd                                    Libellé produit  \\\n",
       "525029  186997203  Lit coffre madrid 140x200 + 1 sommier ch ne bl...   \n",
       "525030  187045930  Nappe antitache ronde infroissable et 100 poly...   \n",
       "525031  187019687  Good morning housse de couette pour enfants da...   \n",
       "525032  186990574                  Ampoule pour four e14 25w 230v ac   \n",
       "525033  211053330        At4 chambre complète carnaval blanc bouleau   \n",
       "\n",
       "              Vendeur             Univers             Nature Date de commande  \\\n",
       "525029  Autre vendeur     Chambre Literie         Lit adulte       2021-03-29   \n",
       "525030  Autre vendeur  Décoration Textile     Linge de table       2021-03-29   \n",
       "525031  Autre vendeur  Décoration Textile  Housse de couette       2021-03-29   \n",
       "525032  Autre vendeur  Décoration Textile            Ampoule       2021-03-29   \n",
       "525033  Autre vendeur     Chambre Literie   Ensemble chambre       2021-03-30   \n",
       "\n",
       "        Montant cmd  Quantité  Prix transport  Délai transport annoncé  \n",
       "525029          530         1           70.83                     25.0  \n",
       "525030           15         1            0.00                      3.0  \n",
       "525031           23         1            0.00                      6.0  \n",
       "525032           15         2            0.00                      7.0  \n",
       "525033          669         1            0.00                     19.0  "
      ]
     },
     "execution_count": 28,
     "metadata": {},
     "output_type": "execute_result"
    }
   ],
   "source": [
    "df.tail()"
   ]
  },
  {
   "cell_type": "code",
   "execution_count": 29,
   "metadata": {},
   "outputs": [
    {
     "data": {
      "text/plain": [
       "0        2021-01-20\n",
       "1        2021-01-17\n",
       "2        2021-01-18\n",
       "3        2021-01-23\n",
       "4        2021-02-11\n",
       "            ...    \n",
       "525029   2021-03-29\n",
       "525030   2021-03-29\n",
       "525031   2021-03-29\n",
       "525032   2021-03-29\n",
       "525033   2021-03-30\n",
       "Name: Date de commande, Length: 525034, dtype: datetime64[ns]"
      ]
     },
     "execution_count": 29,
     "metadata": {},
     "output_type": "execute_result"
    }
   ],
   "source": [
    "df['Date de commande']"
   ]
  },
  {
   "cell_type": "code",
   "execution_count": 30,
   "metadata": {},
   "outputs": [
    {
     "name": "stdout",
     "output_type": "stream",
     "text": [
      "<class 'pandas.core.frame.DataFrame'>\n",
      "RangeIndex: 525034 entries, 0 to 525033\n",
      "Data columns (total 10 columns):\n",
      " #   Column                   Non-Null Count   Dtype         \n",
      "---  ------                   --------------   -----         \n",
      " 0   Cod_cmd                  525034 non-null  int64         \n",
      " 1   Libellé produit          525034 non-null  object        \n",
      " 2   Vendeur                  525034 non-null  object        \n",
      " 3   Univers                  507347 non-null  object        \n",
      " 4   Nature                   513289 non-null  object        \n",
      " 5   Date de commande         525034 non-null  datetime64[ns]\n",
      " 6   Montant cmd              525034 non-null  int64         \n",
      " 7   Quantité                 525034 non-null  int64         \n",
      " 8   Prix transport           525034 non-null  float64       \n",
      " 9   Délai transport annoncé  285611 non-null  float64       \n",
      "dtypes: datetime64[ns](1), float64(2), int64(3), object(4)\n",
      "memory usage: 40.1+ MB\n"
     ]
    },
    {
     "data": {
      "text/html": [
       "<div>\n",
       "<style scoped>\n",
       "    .dataframe tbody tr th:only-of-type {\n",
       "        vertical-align: middle;\n",
       "    }\n",
       "\n",
       "    .dataframe tbody tr th {\n",
       "        vertical-align: top;\n",
       "    }\n",
       "\n",
       "    .dataframe thead th {\n",
       "        text-align: right;\n",
       "    }\n",
       "</style>\n",
       "<table border=\"1\" class=\"dataframe\">\n",
       "  <thead>\n",
       "    <tr style=\"text-align: right;\">\n",
       "      <th></th>\n",
       "      <th>Cod_cmd</th>\n",
       "      <th>Date de commande</th>\n",
       "      <th>Montant cmd</th>\n",
       "      <th>Quantité</th>\n",
       "      <th>Prix transport</th>\n",
       "      <th>Délai transport annoncé</th>\n",
       "    </tr>\n",
       "  </thead>\n",
       "  <tbody>\n",
       "    <tr>\n",
       "      <th>count</th>\n",
       "      <td>5.250340e+05</td>\n",
       "      <td>525034</td>\n",
       "      <td>525034.000000</td>\n",
       "      <td>525034.000000</td>\n",
       "      <td>525034.000000</td>\n",
       "      <td>285611.000000</td>\n",
       "    </tr>\n",
       "    <tr>\n",
       "      <th>mean</th>\n",
       "      <td>1.843096e+08</td>\n",
       "      <td>2021-02-12 08:57:36.544147456</td>\n",
       "      <td>237.909819</td>\n",
       "      <td>1.114495</td>\n",
       "      <td>5.699509</td>\n",
       "      <td>11.074199</td>\n",
       "    </tr>\n",
       "    <tr>\n",
       "      <th>min</th>\n",
       "      <td>1.301047e+08</td>\n",
       "      <td>2021-01-01 00:00:00</td>\n",
       "      <td>15.000000</td>\n",
       "      <td>1.000000</td>\n",
       "      <td>-16.670000</td>\n",
       "      <td>0.000000</td>\n",
       "    </tr>\n",
       "    <tr>\n",
       "      <th>25%</th>\n",
       "      <td>1.825251e+08</td>\n",
       "      <td>2021-01-23 00:00:00</td>\n",
       "      <td>57.000000</td>\n",
       "      <td>1.000000</td>\n",
       "      <td>0.000000</td>\n",
       "      <td>3.000000</td>\n",
       "    </tr>\n",
       "    <tr>\n",
       "      <th>50%</th>\n",
       "      <td>1.840486e+08</td>\n",
       "      <td>2021-02-09 00:00:00</td>\n",
       "      <td>155.000000</td>\n",
       "      <td>1.000000</td>\n",
       "      <td>0.000000</td>\n",
       "      <td>8.000000</td>\n",
       "    </tr>\n",
       "    <tr>\n",
       "      <th>75%</th>\n",
       "      <td>1.855623e+08</td>\n",
       "      <td>2021-03-05 00:00:00</td>\n",
       "      <td>318.000000</td>\n",
       "      <td>1.000000</td>\n",
       "      <td>0.000000</td>\n",
       "      <td>12.000000</td>\n",
       "    </tr>\n",
       "    <tr>\n",
       "      <th>max</th>\n",
       "      <td>2.111540e+08</td>\n",
       "      <td>2021-03-31 00:00:00</td>\n",
       "      <td>11858.000000</td>\n",
       "      <td>208.000000</td>\n",
       "      <td>416.670000</td>\n",
       "      <td>84.000000</td>\n",
       "    </tr>\n",
       "    <tr>\n",
       "      <th>std</th>\n",
       "      <td>4.228657e+06</td>\n",
       "      <td>NaN</td>\n",
       "      <td>274.712035</td>\n",
       "      <td>0.723702</td>\n",
       "      <td>14.171806</td>\n",
       "      <td>13.797036</td>\n",
       "    </tr>\n",
       "  </tbody>\n",
       "</table>\n",
       "</div>"
      ],
      "text/plain": [
       "            Cod_cmd               Date de commande    Montant cmd  \\\n",
       "count  5.250340e+05                         525034  525034.000000   \n",
       "mean   1.843096e+08  2021-02-12 08:57:36.544147456     237.909819   \n",
       "min    1.301047e+08            2021-01-01 00:00:00      15.000000   \n",
       "25%    1.825251e+08            2021-01-23 00:00:00      57.000000   \n",
       "50%    1.840486e+08            2021-02-09 00:00:00     155.000000   \n",
       "75%    1.855623e+08            2021-03-05 00:00:00     318.000000   \n",
       "max    2.111540e+08            2021-03-31 00:00:00   11858.000000   \n",
       "std    4.228657e+06                            NaN     274.712035   \n",
       "\n",
       "            Quantité  Prix transport  Délai transport annoncé  \n",
       "count  525034.000000   525034.000000            285611.000000  \n",
       "mean        1.114495        5.699509                11.074199  \n",
       "min         1.000000      -16.670000                 0.000000  \n",
       "25%         1.000000        0.000000                 3.000000  \n",
       "50%         1.000000        0.000000                 8.000000  \n",
       "75%         1.000000        0.000000                12.000000  \n",
       "max       208.000000      416.670000                84.000000  \n",
       "std         0.723702       14.171806                13.797036  "
      ]
     },
     "execution_count": 30,
     "metadata": {},
     "output_type": "execute_result"
    }
   ],
   "source": [
    "df.info()\n",
    "df.describe()"
   ]
  },
  {
   "cell_type": "code",
   "execution_count": 31,
   "metadata": {},
   "outputs": [
    {
     "data": {
      "text/plain": [
       "Cod_cmd                         0\n",
       "Libellé produit                 0\n",
       "Vendeur                         0\n",
       "Univers                     17687\n",
       "Nature                      11745\n",
       "Date de commande                0\n",
       "Montant cmd                     0\n",
       "Quantité                        0\n",
       "Prix transport                  0\n",
       "Délai transport annoncé    239423\n",
       "dtype: int64"
      ]
     },
     "execution_count": 31,
     "metadata": {},
     "output_type": "execute_result"
    }
   ],
   "source": [
    "df.isna().sum()"
   ]
  },
  {
   "cell_type": "code",
   "execution_count": 32,
   "metadata": {},
   "outputs": [],
   "source": [
    "df = df.dropna(subset=[\"Nature\"])"
   ]
  },
  {
   "cell_type": "code",
   "execution_count": 33,
   "metadata": {},
   "outputs": [],
   "source": [
    "df = df.dropna(subset=[\"Univers\"])"
   ]
  },
  {
   "cell_type": "code",
   "execution_count": 34,
   "metadata": {},
   "outputs": [],
   "source": [
    "# axis = 1 colonne \n",
    "# axis = 0 ligne\n",
    "df = df.drop(\"Délai transport annoncé\", axis=1)"
   ]
  },
  {
   "cell_type": "code",
   "execution_count": 35,
   "metadata": {},
   "outputs": [
    {
     "data": {
      "text/plain": [
       "Cod_cmd             0\n",
       "Libellé produit     0\n",
       "Vendeur             0\n",
       "Univers             0\n",
       "Nature              0\n",
       "Date de commande    0\n",
       "Montant cmd         0\n",
       "Quantité            0\n",
       "Prix transport      0\n",
       "dtype: int64"
      ]
     },
     "execution_count": 35,
     "metadata": {},
     "output_type": "execute_result"
    }
   ],
   "source": [
    "df.isna().sum()"
   ]
  },
  {
   "cell_type": "code",
   "execution_count": 36,
   "metadata": {},
   "outputs": [],
   "source": [
    "# df_copy = df.to_excel(\"20210614_Ecommerce_sales_clean.xlsx\", index=False)"
   ]
  },
  {
   "cell_type": "code",
   "execution_count": 37,
   "metadata": {},
   "outputs": [],
   "source": [
    "nature = df[\"Nature\"].value_counts()\n",
    "total_nature = nature.sum()\n",
    "categorie_cible = df[\"Nature\"].value_counts().unique()\n",
    "total_categorie_cible = categorie_cible.sum()"
   ]
  },
  {
   "cell_type": "code",
   "execution_count": 38,
   "metadata": {},
   "outputs": [
    {
     "data": {
      "text/plain": [
       "507347"
      ]
     },
     "execution_count": 38,
     "metadata": {},
     "output_type": "execute_result"
    }
   ],
   "source": [
    "total_nature"
   ]
  },
  {
   "cell_type": "code",
   "execution_count": 39,
   "metadata": {},
   "outputs": [
    {
     "data": {
      "text/plain": [
       "495324"
      ]
     },
     "execution_count": 39,
     "metadata": {},
     "output_type": "execute_result"
    }
   ],
   "source": [
    "total_categorie_cible"
   ]
  },
  {
   "cell_type": "code",
   "execution_count": 40,
   "metadata": {},
   "outputs": [
    {
     "data": {
      "text/plain": [
       "0"
      ]
     },
     "execution_count": 40,
     "metadata": {},
     "output_type": "execute_result"
    }
   ],
   "source": [
    "nature_vide = df[\"Nature\"].isna().sum()\n",
    "nature_vide"
   ]
  },
  {
   "cell_type": "code",
   "execution_count": 41,
   "metadata": {},
   "outputs": [
    {
     "data": {
      "text/html": [
       "<div>\n",
       "<style scoped>\n",
       "    .dataframe tbody tr th:only-of-type {\n",
       "        vertical-align: middle;\n",
       "    }\n",
       "\n",
       "    .dataframe tbody tr th {\n",
       "        vertical-align: top;\n",
       "    }\n",
       "\n",
       "    .dataframe thead th {\n",
       "        text-align: right;\n",
       "    }\n",
       "</style>\n",
       "<table border=\"1\" class=\"dataframe\">\n",
       "  <thead>\n",
       "    <tr style=\"text-align: right;\">\n",
       "      <th></th>\n",
       "      <th>Cod_cmd</th>\n",
       "      <th>Libellé produit</th>\n",
       "      <th>Vendeur</th>\n",
       "      <th>Univers</th>\n",
       "      <th>Nature</th>\n",
       "      <th>Date de commande</th>\n",
       "      <th>Montant cmd</th>\n",
       "      <th>Quantité</th>\n",
       "      <th>Prix transport</th>\n",
       "    </tr>\n",
       "  </thead>\n",
       "  <tbody>\n",
       "  </tbody>\n",
       "</table>\n",
       "</div>"
      ],
      "text/plain": [
       "Empty DataFrame\n",
       "Columns: [Cod_cmd, Libellé produit, Vendeur, Univers, Nature, Date de commande, Montant cmd, Quantité, Prix transport]\n",
       "Index: []"
      ]
     },
     "execution_count": 41,
     "metadata": {},
     "output_type": "execute_result"
    }
   ],
   "source": [
    "nature_vide = df[\"Nature\"].isna()\n",
    "lignes_nature_vide = df.loc[nature_vide]\n",
    "lignes_nature_vide"
   ]
  },
  {
   "cell_type": "code",
   "execution_count": 42,
   "metadata": {},
   "outputs": [
    {
     "data": {
      "text/plain": [
       "'Matelas'"
      ]
     },
     "execution_count": 42,
     "metadata": {},
     "output_type": "execute_result"
    }
   ],
   "source": [
    "# mode: la valeur qui apparaît le plus souvent\n",
    "# Renvoyer la valeur de fréquence la plus élevée d’une série\n",
    "mode_nature = df[\"Nature\"].mode().iloc[0]\n",
    "mode_nature"
   ]
  },
  {
   "cell_type": "code",
   "execution_count": 43,
   "metadata": {},
   "outputs": [
    {
     "data": {
      "text/plain": [
       "Nature\n",
       "Matelas                35518\n",
       "Lit adulte             21056\n",
       "Meuble à chaussures    19091\n",
       "Chaise                 15580\n",
       "Bureau                 15391\n",
       "                       ...  \n",
       "Décapeur thermique         1\n",
       "Fendeur de bûches          1\n",
       "Accessoire biberon         1\n",
       "Lame de terrasse           1\n",
       "Cube de jardin             1\n",
       "Name: count, Length: 567, dtype: int64"
      ]
     },
     "execution_count": 43,
     "metadata": {},
     "output_type": "execute_result"
    }
   ],
   "source": [
    "count  = df[\"Nature\"].value_counts()\n",
    "count"
   ]
  },
  {
   "cell_type": "code",
   "execution_count": 44,
   "metadata": {},
   "outputs": [],
   "source": [
    "mode_nature = df[\"Nature\"].mode().iloc[0]\n",
    "# Remplacer les valeurs manquantes dans la colonne \"Nature\" par le mode\n",
    "df[\"Nature\"].fillna(mode_nature, inplace=True)"
   ]
  },
  {
   "cell_type": "code",
   "execution_count": 45,
   "metadata": {},
   "outputs": [
    {
     "data": {
      "text/plain": [
       "0"
      ]
     },
     "execution_count": 45,
     "metadata": {},
     "output_type": "execute_result"
    }
   ],
   "source": [
    "nature_vide = df[\"Nature\"].isna().sum()\n",
    "nature_vide"
   ]
  },
  {
   "cell_type": "code",
   "execution_count": 46,
   "metadata": {},
   "outputs": [
    {
     "data": {
      "text/plain": [
       "233718"
      ]
     },
     "execution_count": 46,
     "metadata": {},
     "output_type": "execute_result"
    }
   ],
   "source": [
    "# Filtrer les données pour les commandes de matelas et la date du 31/03/2021\n",
    "date_filtre = '2021-01-31'\n",
    "nature_filtre = 'Matelas'\n",
    "\n",
    "# Appliquer les filtres\n",
    "commandes_matelas = df[(df['Nature'] == nature_filtre) & (df['Date de commande'] == date_filtre)]\n",
    "\n",
    "# Afficher les commandes de matelas pour le 31/03/2021\n",
    "commandes_matelas[\"Montant cmd\"].sum()"
   ]
  },
  {
   "cell_type": "code",
   "execution_count": 47,
   "metadata": {},
   "outputs": [
    {
     "data": {
      "text/plain": [
       "344       157.0\n",
       "352       176.0\n",
       "385       494.0\n",
       "386       494.0\n",
       "387       232.0\n",
       "          ...  \n",
       "525012    324.0\n",
       "525013    629.0\n",
       "525015    324.0\n",
       "525016    865.0\n",
       "525017    144.0\n",
       "Length: 35518, dtype: float64"
      ]
     },
     "execution_count": 47,
     "metadata": {},
     "output_type": "execute_result"
    }
   ],
   "source": [
    "# Filtrer les données pour les commandes de matelas et la date du 31/03/2021\n",
    "date_filtre = '2021-01-31'\n",
    "nature_filtre = 'Matelas'\n",
    "\n",
    "# Appliquer les filtres\n",
    "commandes_matelas = df[(df['Nature'] == nature_filtre)]\n",
    "\n",
    "# Afficher les commandes de matelas pour le 31/03/2021\n",
    "commandes_matelas[\"Montant cmd\"]\n",
    "\n",
    "# Afficher les prix\n",
    "prix = commandes_matelas[\"Montant cmd\"] / commandes_matelas[\"Quantité\"]\n",
    "prix"
   ]
  },
  {
   "cell_type": "code",
   "execution_count": 51,
   "metadata": {},
   "outputs": [
    {
     "data": {
      "text/html": [
       "<div>\n",
       "<style scoped>\n",
       "    .dataframe tbody tr th:only-of-type {\n",
       "        vertical-align: middle;\n",
       "    }\n",
       "\n",
       "    .dataframe tbody tr th {\n",
       "        vertical-align: top;\n",
       "    }\n",
       "\n",
       "    .dataframe thead th {\n",
       "        text-align: right;\n",
       "    }\n",
       "</style>\n",
       "<table border=\"1\" class=\"dataframe\">\n",
       "  <thead>\n",
       "    <tr style=\"text-align: right;\">\n",
       "      <th></th>\n",
       "      <th>Cod_cmd</th>\n",
       "      <th>Libellé produit</th>\n",
       "      <th>Vendeur</th>\n",
       "      <th>Univers</th>\n",
       "      <th>Nature</th>\n",
       "      <th>Date de commande</th>\n",
       "      <th>Montant cmd</th>\n",
       "      <th>Quantité</th>\n",
       "      <th>Prix transport</th>\n",
       "    </tr>\n",
       "  </thead>\n",
       "  <tbody>\n",
       "    <tr>\n",
       "      <th>0</th>\n",
       "      <td>182210782</td>\n",
       "      <td>Table basse carrée detroit design industriel</td>\n",
       "      <td>Autre vendeur</td>\n",
       "      <td>Canapé Salon Séjour</td>\n",
       "      <td>Table basse</td>\n",
       "      <td>2021-01-20</td>\n",
       "      <td>244</td>\n",
       "      <td>4</td>\n",
       "      <td>6.67</td>\n",
       "    </tr>\n",
       "    <tr>\n",
       "      <th>1</th>\n",
       "      <td>182082437</td>\n",
       "      <td>Ours en peluche géant 150 cm brun</td>\n",
       "      <td>Autre vendeur</td>\n",
       "      <td>Enfant Bébé</td>\n",
       "      <td>Peluche</td>\n",
       "      <td>2021-01-17</td>\n",
       "      <td>28</td>\n",
       "      <td>1</td>\n",
       "      <td>9.92</td>\n",
       "    </tr>\n",
       "    <tr>\n",
       "      <th>2</th>\n",
       "      <td>182095765</td>\n",
       "      <td>Ours en peluche géant 100 cm blanc</td>\n",
       "      <td>Autre vendeur</td>\n",
       "      <td>Enfant Bébé</td>\n",
       "      <td>Peluche</td>\n",
       "      <td>2021-01-18</td>\n",
       "      <td>15</td>\n",
       "      <td>1</td>\n",
       "      <td>9.92</td>\n",
       "    </tr>\n",
       "    <tr>\n",
       "      <th>3</th>\n",
       "      <td>182615392</td>\n",
       "      <td>Lot de 4 chaises mia noires pour salle à manger</td>\n",
       "      <td>Autre vendeur</td>\n",
       "      <td>Canapé Salon Séjour</td>\n",
       "      <td>Chaise</td>\n",
       "      <td>2021-01-23</td>\n",
       "      <td>385</td>\n",
       "      <td>2</td>\n",
       "      <td>20.75</td>\n",
       "    </tr>\n",
       "    <tr>\n",
       "      <th>4</th>\n",
       "      <td>184222081</td>\n",
       "      <td>Meuble tv falko bois blanc et gris</td>\n",
       "      <td>Autre vendeur</td>\n",
       "      <td>Canapé Salon Séjour</td>\n",
       "      <td>Meuble tv</td>\n",
       "      <td>2021-02-11</td>\n",
       "      <td>61</td>\n",
       "      <td>1</td>\n",
       "      <td>19.08</td>\n",
       "    </tr>\n",
       "    <tr>\n",
       "      <th>...</th>\n",
       "      <td>...</td>\n",
       "      <td>...</td>\n",
       "      <td>...</td>\n",
       "      <td>...</td>\n",
       "      <td>...</td>\n",
       "      <td>...</td>\n",
       "      <td>...</td>\n",
       "      <td>...</td>\n",
       "      <td>...</td>\n",
       "    </tr>\n",
       "    <tr>\n",
       "      <th>95</th>\n",
       "      <td>183908268</td>\n",
       "      <td>Meuble de rangement en escalier liam 4 niveaux...</td>\n",
       "      <td>Autre vendeur</td>\n",
       "      <td>Bureau Rangement</td>\n",
       "      <td>Bibliotheque</td>\n",
       "      <td>2021-02-07</td>\n",
       "      <td>86</td>\n",
       "      <td>1</td>\n",
       "      <td>16.58</td>\n",
       "    </tr>\n",
       "    <tr>\n",
       "      <th>96</th>\n",
       "      <td>181920450</td>\n",
       "      <td>Lot de 2 tables de chevet bois olga blanches</td>\n",
       "      <td>Autre vendeur</td>\n",
       "      <td>Chambre Literie</td>\n",
       "      <td>Chevet</td>\n",
       "      <td>2021-01-14</td>\n",
       "      <td>28</td>\n",
       "      <td>1</td>\n",
       "      <td>1.67</td>\n",
       "    </tr>\n",
       "    <tr>\n",
       "      <th>97</th>\n",
       "      <td>184174355</td>\n",
       "      <td>Lot de 2 tables de chevet bois olga blanches</td>\n",
       "      <td>Autre vendeur</td>\n",
       "      <td>Chambre Literie</td>\n",
       "      <td>Chevet</td>\n",
       "      <td>2021-02-10</td>\n",
       "      <td>54</td>\n",
       "      <td>1</td>\n",
       "      <td>16.58</td>\n",
       "    </tr>\n",
       "    <tr>\n",
       "      <th>98</th>\n",
       "      <td>183903263</td>\n",
       "      <td>Table basse plateau relevable soa bois blanc</td>\n",
       "      <td>Autre vendeur</td>\n",
       "      <td>Canapé Salon Séjour</td>\n",
       "      <td>Table basse</td>\n",
       "      <td>2021-02-07</td>\n",
       "      <td>156</td>\n",
       "      <td>1</td>\n",
       "      <td>27.42</td>\n",
       "    </tr>\n",
       "    <tr>\n",
       "      <th>99</th>\n",
       "      <td>182055795</td>\n",
       "      <td>Lot de 2 tables de chevet bois olga blanches t...</td>\n",
       "      <td>Autre vendeur</td>\n",
       "      <td>Chambre Literie</td>\n",
       "      <td>Chevet</td>\n",
       "      <td>2021-01-17</td>\n",
       "      <td>54</td>\n",
       "      <td>1</td>\n",
       "      <td>16.58</td>\n",
       "    </tr>\n",
       "  </tbody>\n",
       "</table>\n",
       "<p>100 rows × 9 columns</p>\n",
       "</div>"
      ],
      "text/plain": [
       "      Cod_cmd                                    Libellé produit  \\\n",
       "0   182210782       Table basse carrée detroit design industriel   \n",
       "1   182082437                  Ours en peluche géant 150 cm brun   \n",
       "2   182095765                 Ours en peluche géant 100 cm blanc   \n",
       "3   182615392    Lot de 4 chaises mia noires pour salle à manger   \n",
       "4   184222081                 Meuble tv falko bois blanc et gris   \n",
       "..        ...                                                ...   \n",
       "95  183908268  Meuble de rangement en escalier liam 4 niveaux...   \n",
       "96  181920450       Lot de 2 tables de chevet bois olga blanches   \n",
       "97  184174355       Lot de 2 tables de chevet bois olga blanches   \n",
       "98  183903263       Table basse plateau relevable soa bois blanc   \n",
       "99  182055795  Lot de 2 tables de chevet bois olga blanches t...   \n",
       "\n",
       "          Vendeur              Univers        Nature Date de commande  \\\n",
       "0   Autre vendeur  Canapé Salon Séjour   Table basse       2021-01-20   \n",
       "1   Autre vendeur          Enfant Bébé       Peluche       2021-01-17   \n",
       "2   Autre vendeur          Enfant Bébé       Peluche       2021-01-18   \n",
       "3   Autre vendeur  Canapé Salon Séjour        Chaise       2021-01-23   \n",
       "4   Autre vendeur  Canapé Salon Séjour     Meuble tv       2021-02-11   \n",
       "..            ...                  ...           ...              ...   \n",
       "95  Autre vendeur     Bureau Rangement  Bibliotheque       2021-02-07   \n",
       "96  Autre vendeur      Chambre Literie        Chevet       2021-01-14   \n",
       "97  Autre vendeur      Chambre Literie        Chevet       2021-02-10   \n",
       "98  Autre vendeur  Canapé Salon Séjour   Table basse       2021-02-07   \n",
       "99  Autre vendeur      Chambre Literie        Chevet       2021-01-17   \n",
       "\n",
       "    Montant cmd  Quantité  Prix transport  \n",
       "0           244         4            6.67  \n",
       "1            28         1            9.92  \n",
       "2            15         1            9.92  \n",
       "3           385         2           20.75  \n",
       "4            61         1           19.08  \n",
       "..          ...       ...             ...  \n",
       "95           86         1           16.58  \n",
       "96           28         1            1.67  \n",
       "97           54         1           16.58  \n",
       "98          156         1           27.42  \n",
       "99           54         1           16.58  \n",
       "\n",
       "[100 rows x 9 columns]"
      ]
     },
     "execution_count": 51,
     "metadata": {},
     "output_type": "execute_result"
    }
   ],
   "source": [
    "df.head(100)"
   ]
  }
 ],
 "metadata": {
  "kernelspec": {
   "display_name": "ecomsales_env",
   "language": "python",
   "name": "python3"
  },
  "language_info": {
   "codemirror_mode": {
    "name": "ipython",
    "version": 3
   },
   "file_extension": ".py",
   "mimetype": "text/x-python",
   "name": "python",
   "nbconvert_exporter": "python",
   "pygments_lexer": "ipython3",
   "version": "3.11.3"
  },
  "orig_nbformat": 4
 },
 "nbformat": 4,
 "nbformat_minor": 2
}
